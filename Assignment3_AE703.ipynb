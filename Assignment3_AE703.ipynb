{
  "nbformat": 4,
  "nbformat_minor": 0,
  "metadata": {
    "colab": {
      "provenance": [],
      "authorship_tag": "ABX9TyOWMBuKs2VArEIkNmJWqFRM",
      "include_colab_link": true
    },
    "kernelspec": {
      "name": "python3",
      "display_name": "Python 3"
    },
    "language_info": {
      "name": "python"
    }
  },
  "cells": [
    {
      "cell_type": "markdown",
      "metadata": {
        "id": "view-in-github",
        "colab_type": "text"
      },
      "source": [
        "<a href=\"https://colab.research.google.com/github/alokranjan-iitk/alokranjan-iitk/blob/main/Assignment3_AE703.ipynb\" target=\"_parent\"><img src=\"https://colab.research.google.com/assets/colab-badge.svg\" alt=\"Open In Colab\"/></a>"
      ]
    },
    {
      "cell_type": "code",
      "source": [
        "import numpy as np\n",
        "import time\n",
        "\n",
        "def tri_mat(n):\n",
        "    A = np.zeros((n, n))\n",
        "    for i in range(n):\n",
        "        A[i, i] = 2\n",
        "        if i > 0:\n",
        "            A[i, i-1] = -1\n",
        "        if i < n - 1:\n",
        "            A[i, i+1] = -1\n",
        "    return A\n",
        "\n",
        "def vec(n):\n",
        "    return np.random.rand(n)\n",
        "\n",
        "def thomas(A, b):\n",
        "    n = len(b)\n",
        "    A = A.copy()\n",
        "    b = b.copy()\n",
        "    for i in range(1, n):\n",
        "        f = A[i, i-1] / A[i-1, i-1]\n",
        "        A[i, i] -= f * A[i-1, i]\n",
        "        b[i] -= f * b[i-1]\n",
        "    x = np.zeros(n)\n",
        "    x[-1] = b[-1] / A[-1, -1]\n",
        "    for i in range(n-2, -1, -1):\n",
        "        x[i] = (b[i] - A[i, i+1] * x[i+1]) / A[i, i]\n",
        "    return x\n",
        "\n",
        "def direct(A, b):\n",
        "    return np.linalg.solve(A, b)\n",
        "\n",
        "def run(n):\n",
        "    A = tri_mat(n)\n",
        "    b = vec(n)\n",
        "\n",
        "    start = time.time()\n",
        "    x1 = thomas(A, b)\n",
        "    t1 = time.time() - start\n",
        "\n",
        "    start = time.time()\n",
        "    x2 = direct(A, b)\n",
        "    t2 = time.time() - start\n",
        "\n",
        "    diff = np.linalg.norm(x1 - x2)\n",
        "    #print({f\"Matrix A: {A}\"})\n",
        "    print(f\"X_values_Thomas: {x1}\")\n",
        "    print(f\"X_values_Direct: {x2}\")\n",
        "    print(f\"Size: {n}\")\n",
        "    print(f\"Thomas time: {t1:.6f} s\")\n",
        "    print(f\"Direct time: {t2:.6f} s\")\n",
        "    print(f\"Difference: {diff:.2e}\")\n",
        "\n",
        "run(20000)# matrix size n for(nxn)\n"
      ],
      "metadata": {
        "colab": {
          "base_uri": "https://localhost:8080/"
        },
        "id": "KrPfJ2MJ6Wi3",
        "outputId": "a7029e80-93e3-4791-ac5d-44fd1aedca39"
      },
      "execution_count": null,
      "outputs": [
        {
          "output_type": "stream",
          "name": "stdout",
          "text": [
            "X_values_Thomas: [ 5038.04591495 10075.83367729 15112.87184188 ... 15043.49077557\n",
            " 10029.16371224  5014.79803132]\n",
            "X_values_Direct: [ 5038.04591495 10075.83367729 15112.87184188 ... 15043.49077557\n",
            " 10029.16371224  5014.79803132]\n",
            "Size: 20000\n",
            "Thomas time: 1.672620 s\n",
            "Direct time: 171.812188 s\n",
            "Difference: 1.27e-05\n"
          ]
        }
      ]
    }
  ]
}